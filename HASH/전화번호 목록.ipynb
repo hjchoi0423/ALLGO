{
 "cells": [
  {
   "cell_type": "markdown",
   "id": "c6383b2d",
   "metadata": {},
   "source": [
    "# 2022.1.10  \n",
    "### 전화번호 목록  \n",
    "핵심 포인트 : 문자열 정렬! 문자열을 정렬하면 크기가 아닌 순서로 정렬되어 하나씩만 비교해도 된다는 점을 놓쳤다.  \n",
    "오랜만에 다시 연습하려니 반복문에서 헤매는 나를 발견.. 반성 또 반성🤦‍♀️"
   ]
  },
  {
   "cell_type": "markdown",
   "id": "6de8f030",
   "metadata": {},
   "source": [
    "첫 번째 풀이 : 문자열 길이 기준으로 정렬"
   ]
  },
  {
   "cell_type": "code",
   "execution_count": 73,
   "id": "30bfd1bd",
   "metadata": {},
   "outputs": [],
   "source": [
    "def solution(phone_book):\n",
    "    phone_book=sorted(phone_book, key=lambda x:len(x))\n",
    "    print(phone_book)\n",
    "    answer=True\n",
    "    for i in range(len(phone_book)):\n",
    "        print(\"***\",i,phone_book[i])\n",
    "        for j in range(i+1,len(phone_book)):\n",
    "            print(j,\":\",phone_book[j])\n",
    "            if len(phone_book[i])==len(phone_book[j]):\n",
    "                continue\n",
    "            if phone_book[i]==phone_book[j][:len(phone_book[i])]:\n",
    "                print(\"Find\")\n",
    "                answer=False\n",
    "                break\n",
    "        if answer==False:\n",
    "            break\n",
    "    return answer"
   ]
  },
  {
   "cell_type": "code",
   "execution_count": null,
   "id": "6f2b5bc9",
   "metadata": {},
   "outputs": [],
   "source": [
    "테케 12, 15, 19 에러 및 효율성 시간 초과가 떴다.. 극악의 효율성을 자랑하는 듯하다. 역시 sorted의 문제인 것일까? 했으나...  \n",
    "문제는 "
   ]
  },
  {
   "cell_type": "code",
   "execution_count": 74,
   "id": "8036ecc4",
   "metadata": {},
   "outputs": [
    {
     "data": {
      "text/plain": [
       "False"
      ]
     },
     "execution_count": 74,
     "metadata": {},
     "output_type": "execute_result"
    }
   ],
   "source": [
    "solution([\"12\",\"123\",\"1235\",\"567\",\"88\"])"
   ]
  },
  {
   "cell_type": "code",
   "execution_count": 75,
   "id": "04f93742",
   "metadata": {},
   "outputs": [
    {
     "data": {
      "text/plain": [
       "False"
      ]
     },
     "execution_count": 75,
     "metadata": {},
     "output_type": "execute_result"
    }
   ],
   "source": [
    "solution([\"11\",\"12\",\"111\"])"
   ]
  },
  {
   "cell_type": "code",
   "execution_count": 76,
   "id": "fb0bb51e",
   "metadata": {},
   "outputs": [
    {
     "data": {
      "text/plain": [
       "False"
      ]
     },
     "execution_count": 76,
     "metadata": {},
     "output_type": "execute_result"
    }
   ],
   "source": [
    "solution([\"934793\", \"34\", \"44\", \"9347\"])"
   ]
  },
  {
   "cell_type": "code",
   "execution_count": 77,
   "id": "35f55e32",
   "metadata": {},
   "outputs": [],
   "source": [
    "def solution(phone_book):\n",
    "    phone_book=sorted(phone_book)\n",
    "    print(phone_book)\n",
    "    answer=True\n",
    "    for i in range(len(phone_book)):\n",
    "        if answer==False:\n",
    "            break\n",
    "        if phone_book[i]==phone_book[i+1][:len(phone_book[i])]:\n",
    "            answer=False\n",
    "    return answer"
   ]
  },
  {
   "cell_type": "code",
   "execution_count": 78,
   "id": "976524a2",
   "metadata": {},
   "outputs": [
    {
     "name": "stdout",
     "output_type": "stream",
     "text": [
      "['34', '44', '9347', '934793']\n"
     ]
    },
    {
     "data": {
      "text/plain": [
       "False"
      ]
     },
     "execution_count": 78,
     "metadata": {},
     "output_type": "execute_result"
    }
   ],
   "source": [
    "solution([\"934793\", \"34\", \"44\", \"9347\"])"
   ]
  },
  {
   "cell_type": "code",
   "execution_count": null,
   "id": "a816a41d",
   "metadata": {},
   "outputs": [],
   "source": []
  }
 ],
 "metadata": {
  "kernelspec": {
   "display_name": "Python 3",
   "language": "python",
   "name": "python3"
  },
  "language_info": {
   "codemirror_mode": {
    "name": "ipython",
    "version": 3
   },
   "file_extension": ".py",
   "mimetype": "text/x-python",
   "name": "python",
   "nbconvert_exporter": "python",
   "pygments_lexer": "ipython3",
   "version": "3.8.8"
  }
 },
 "nbformat": 4,
 "nbformat_minor": 5
}
