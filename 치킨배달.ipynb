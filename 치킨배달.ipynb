{
 "cells": [
  {
   "cell_type": "markdown",
   "id": "afcecffd",
   "metadata": {},
   "source": [
    "# 2021.07.27\n",
    "## 치킨배달  \n",
    "열심히 itertools의 combinations를 활용하여 해결🤦‍♀️"
   ]
  },
  {
   "cell_type": "code",
   "execution_count": null,
   "id": "b34a982b",
   "metadata": {
    "scrolled": true
   },
   "outputs": [],
   "source": [
    "import sys\n",
    "from itertools import combinations\n",
    "\n",
    "def calc_dist(c, h):\n",
    "    x=abs(c[0]-h[0])\n",
    "    y=abs(c[1]-h[1])\n",
    "    return x+y\n",
    "\n",
    "N,M = map(int, input().split())\n",
    "city = [list(map(int, sys.stdin.readline().split())) for _ in range(N)]\n",
    "# 집, 치킨집 좌표 기록\n",
    "house, chicken = [], []\n",
    "for i in range(N):\n",
    "    for j in range(N):\n",
    "        if city[i][j] == 1:\n",
    "            house.append((i, j))\n",
    "        elif city[i][j] == 2:\n",
    "            chicken.append((i, j))\n",
    "# 치킨집과의 모든 거리들 조합으로 리스트에 담기\n",
    "combi = list(combinations(chicken, M))            \n",
    "# 최적값 계산\n",
    "rslt=[]\n",
    "for com in combi:\n",
    "    all_dist=0\n",
    "    for h in house:\n",
    "        dist=[]\n",
    "        for ch in com:\n",
    "            dist.append(calc_dist(h, ch))\n",
    "        all_dist+=min(dist)\n",
    "    rslt.append(all_dist)\n",
    "print(min(rslt))"
   ]
  },
  {
   "cell_type": "code",
   "execution_count": null,
   "id": "8b8f429f",
   "metadata": {},
   "outputs": [],
   "source": []
  },
  {
   "cell_type": "code",
   "execution_count": null,
   "id": "ef940914",
   "metadata": {},
   "outputs": [],
   "source": []
  }
 ],
 "metadata": {
  "kernelspec": {
   "display_name": "Python 3",
   "language": "python",
   "name": "python3"
  },
  "language_info": {
   "codemirror_mode": {
    "name": "ipython",
    "version": 3
   },
   "file_extension": ".py",
   "mimetype": "text/x-python",
   "name": "python",
   "nbconvert_exporter": "python",
   "pygments_lexer": "ipython3",
   "version": "3.8.8"
  }
 },
 "nbformat": 4,
 "nbformat_minor": 5
}
