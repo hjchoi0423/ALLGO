{
 "cells": [
  {
   "cell_type": "markdown",
   "id": "cab13037",
   "metadata": {},
   "source": [
    "# 2021.11.22  \n",
    "## 카펫   \n",
    "예전에 했던 풀이가 바로 떠오르지 않아서 망연자실... 머리가 많이 굳었구만🤦‍♀️"
   ]
  },
  {
   "cell_type": "markdown",
   "id": "1bc8a477",
   "metadata": {},
   "source": [
    "1) 첫 번째 풀이 : 바깥에서부터 접근하는 방법"
   ]
  },
  {
   "cell_type": "code",
   "execution_count": null,
   "id": "ced3777e",
   "metadata": {},
   "outputs": [],
   "source": [
    "def solution(brown, yellow):\n",
    "    total=brown+yellow\n",
    "    for row in range(total,2,-1):\n",
    "        if total%row==0:\n",
    "            col=total//row\n",
    "            if yellow==(row-2)*(col-2):\n",
    "                return [row, col]"
   ]
  },
  {
   "cell_type": "markdown",
   "id": "9f13c972",
   "metadata": {},
   "source": [
    "2) 두 번째 풀이 : 안에서부터 접근하는 방법"
   ]
  },
  {
   "cell_type": "code",
   "execution_count": 44,
   "id": "858a0d61",
   "metadata": {},
   "outputs": [],
   "source": [
    "import math\n",
    "def solution(brown, yellow):\n",
    "    total=brown+yellow\n",
    "    for i in range(1, int(math.sqrt(yellow))+1):\n",
    "        if not yellow%i:\n",
    "            tmp_height=i\n",
    "            tmp_width=yellow//i\n",
    "            if 2*(tmp_height+tmp_width)+4==brown:\n",
    "                return [tmp_width+2, tmp_height+2]"
   ]
  },
  {
   "cell_type": "markdown",
   "id": "4f3e8bb7",
   "metadata": {},
   "source": [
    "0) 두 번째 풀이에 쓰기 위해 만들었던 반쪽짜리 약수 찾기 코드... 사실상 쓸모가 없었다."
   ]
  },
  {
   "cell_type": "code",
   "execution_count": 22,
   "id": "96402f46",
   "metadata": {},
   "outputs": [
    {
     "name": "stdout",
     "output_type": "stream",
     "text": [
      "25\n",
      "[1, 5]\n"
     ]
    }
   ],
   "source": [
    "num=int(input())\n",
    "lst=[1]\n",
    "for i in range(2, num//2):\n",
    "    if num%i==0:\n",
    "        lst.append(i)\n",
    "    if i>math.sqrt(num):\n",
    "        break\n",
    "print(lst)"
   ]
  },
  {
   "cell_type": "code",
   "execution_count": 46,
   "id": "6580b00a",
   "metadata": {},
   "outputs": [
    {
     "name": "stdout",
     "output_type": "stream",
     "text": [
      "1 1\n"
     ]
    },
    {
     "data": {
      "text/plain": [
       "[3, 3]"
      ]
     },
     "execution_count": 46,
     "metadata": {},
     "output_type": "execute_result"
    }
   ],
   "source": [
    "solution(8,1)"
   ]
  },
  {
   "cell_type": "code",
   "execution_count": 47,
   "id": "d90c376a",
   "metadata": {},
   "outputs": [
    {
     "name": "stdout",
     "output_type": "stream",
     "text": [
      "1 24\n",
      "2 12\n",
      "3 8\n",
      "4 6\n"
     ]
    },
    {
     "data": {
      "text/plain": [
       "[8, 6]"
      ]
     },
     "execution_count": 47,
     "metadata": {},
     "output_type": "execute_result"
    }
   ],
   "source": [
    "solution(24,24)"
   ]
  },
  {
   "cell_type": "code",
   "execution_count": null,
   "id": "7391117c",
   "metadata": {},
   "outputs": [],
   "source": []
  }
 ],
 "metadata": {
  "kernelspec": {
   "display_name": "Python 3",
   "language": "python",
   "name": "python3"
  },
  "language_info": {
   "codemirror_mode": {
    "name": "ipython",
    "version": 3
   },
   "file_extension": ".py",
   "mimetype": "text/x-python",
   "name": "python",
   "nbconvert_exporter": "python",
   "pygments_lexer": "ipython3",
   "version": "3.8.8"
  }
 },
 "nbformat": 4,
 "nbformat_minor": 5
}
