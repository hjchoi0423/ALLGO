{
 "cells": [
  {
   "cell_type": "markdown",
   "id": "42d72eba",
   "metadata": {},
   "source": [
    "# 2021.11.19  \n",
    "## H-Index   \n",
    "처음부터 정렬해주고 시작하니 깔끔하다.  \n",
    "num 변수를 만들고 역으로 접근하면서 한 번씩 더해가며 비교하는 방법이 과연 가장 효율적일까 싶어서 다른 풀이 방법 더 생각해보려고 하는 중❗"
   ]
  },
  {
   "cell_type": "code",
   "execution_count": 18,
   "id": "727ca68f",
   "metadata": {},
   "outputs": [],
   "source": [
    "def solution(citations):\n",
    "    citations.sort(reverse=True)\n",
    "    num=0\n",
    "    for i in citations:\n",
    "        if num>=i:\n",
    "            break\n",
    "        num+=1\n",
    "    return num"
   ]
  },
  {
   "cell_type": "code",
   "execution_count": 20,
   "id": "2e6a260c",
   "metadata": {},
   "outputs": [
    {
     "data": {
      "text/plain": [
       "4"
      ]
     },
     "execution_count": 20,
     "metadata": {},
     "output_type": "execute_result"
    }
   ],
   "source": [
    "solution([0,1,2,3,3,3,3,3,3,4,10,20,30,40])"
   ]
  },
  {
   "cell_type": "code",
   "execution_count": 21,
   "id": "c11aa32b",
   "metadata": {},
   "outputs": [
    {
     "data": {
      "text/plain": [
       "2"
      ]
     },
     "execution_count": 21,
     "metadata": {},
     "output_type": "execute_result"
    }
   ],
   "source": [
    "solution([22, 42])"
   ]
  },
  {
   "cell_type": "code",
   "execution_count": 22,
   "id": "a3201618",
   "metadata": {},
   "outputs": [
    {
     "data": {
      "text/plain": [
       "1"
      ]
     },
     "execution_count": 22,
     "metadata": {},
     "output_type": "execute_result"
    }
   ],
   "source": [
    "solution([0,1,1,1,1,5])"
   ]
  },
  {
   "cell_type": "code",
   "execution_count": 23,
   "id": "2e610f98",
   "metadata": {},
   "outputs": [
    {
     "data": {
      "text/plain": [
       "1"
      ]
     },
     "execution_count": 23,
     "metadata": {},
     "output_type": "execute_result"
    }
   ],
   "source": [
    "solution([0,0,0,0,0,6])"
   ]
  },
  {
   "cell_type": "code",
   "execution_count": 26,
   "id": "feeef101",
   "metadata": {},
   "outputs": [
    {
     "data": {
      "text/plain": [
       "0"
      ]
     },
     "execution_count": 26,
     "metadata": {},
     "output_type": "execute_result"
    }
   ],
   "source": [
    "solution([0,0,0,0,0,0])"
   ]
  },
  {
   "cell_type": "code",
   "execution_count": 25,
   "id": "06fad923",
   "metadata": {},
   "outputs": [
    {
     "data": {
      "text/plain": [
       "5"
      ]
     },
     "execution_count": 25,
     "metadata": {},
     "output_type": "execute_result"
    }
   ],
   "source": [
    "solution([0,6,6,6,6,6])"
   ]
  }
 ],
 "metadata": {
  "kernelspec": {
   "display_name": "Python 3",
   "language": "python",
   "name": "python3"
  },
  "language_info": {
   "codemirror_mode": {
    "name": "ipython",
    "version": 3
   },
   "file_extension": ".py",
   "mimetype": "text/x-python",
   "name": "python",
   "nbconvert_exporter": "python",
   "pygments_lexer": "ipython3",
   "version": "3.8.8"
  }
 },
 "nbformat": 4,
 "nbformat_minor": 5
}
