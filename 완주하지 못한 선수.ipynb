{
 "cells": [
  {  
   "cell_type": "markdown",
   "id": "f2c9ab84",
   "metadata": {},
   "source": [
    "# 2021.11.16  \n",
    "## 완주하지 못한 선수     \n",
    "리스트를 정렬하는 방법보다는 딕셔너리(해시)를 활용하여 빠르게 접근하는 것이 풀이의 핵심 뽀인뜨‼"
   ]
  },
  {
   "cell_type": "code",
   "execution_count": 5,
   "id": "05da9d75",
   "metadata": {},
   "outputs": [],
   "source": [
    "def solution(participant, completion):\n",
    "    dict={}\n",
    "    for i in participant:\n",
    "        dict[i] = dict.get(i, 0) + 1\n",
    "    for i in completion:\n",
    "        dict[i]-=1\n",
    "    \n",
    "    \n",
    "    return [k for k, v in dict.items() if v==1][0]"
   ]
  },
  {
   "cell_type": "code",
   "execution_count": 6,
   "id": "0bd712ad",
   "metadata": {},
   "outputs": [
    {
     "data": {
      "text/plain": [
       "'leo'"
      ]
     },
     "execution_count": 6,
     "metadata": {},
     "output_type": "execute_result"
    }
   ],
   "source": [
    "solution([\"leo\", \"kiki\", \"eden\"],[\"eden\", \"kiki\"])"
   ]
  },
  {
   "cell_type": "code",
   "execution_count": null,
   "id": "7f3598e2",
   "metadata": {},
   "outputs": [],
   "source": []
  }
 ],
 "metadata": {
  "kernelspec": {
   "display_name": "Python 3",
   "language": "python",
   "name": "python3"
  },
  "language_info": {
   "codemirror_mode": {
    "name": "ipython",
    "version": 3
   },
   "file_extension": ".py",
   "mimetype": "text/x-python",
   "name": "python",
   "nbconvert_exporter": "python",
   "pygments_lexer": "ipython3",
   "version": "3.8.8"
  }
 },
 "nbformat": 4,
 "nbformat_minor": 5
}
