{
 "cells": [
  {
   "cell_type": "markdown",
   "id": "4c87307a",
   "metadata": {},
   "source": [
    "# 2022.1.12  \n",
    "### 기능개발  \n",
    "핵심 포인트 : 남은 시간을 올림 함수로 계산한 후 queue로 활용했다.  이후 코드는 시간복잡도 측면에서 좀 더 개선이 필요할 것 같다."
   ]
  },
  {
   "cell_type": "code",
   "execution_count": 32,
   "id": "6ec7e431",
   "metadata": {},
   "outputs": [],
   "source": [
    "import math\n",
    "def solution(progresses, speeds):\n",
    "    answer = []\n",
    "    progresses=[100-i for i in progresses]\n",
    "    left=[]\n",
    "    for i in range(len(progresses)):\n",
    "        left.append(math.ceil(progresses[i]/speeds[i]))\n",
    "    \n",
    "    while left:\n",
    "        tmp=left.pop(0)\n",
    "        cnt=1\n",
    "        while left and left[0]<=tmp:\n",
    "            left.pop(0)\n",
    "            cnt+=1\n",
    "                \n",
    "        answer.append(cnt)\n",
    "    \n",
    "    return answer"
   ]
  },
  {
   "cell_type": "code",
   "execution_count": 33,
   "id": "38e54465",
   "metadata": {},
   "outputs": [
    {
     "data": {
      "text/plain": [
       "[1, 3, 2]"
      ]
     },
     "execution_count": 33,
     "metadata": {},
     "output_type": "execute_result"
    }
   ],
   "source": [
    "solution([95, 90, 99, 99, 80, 99],[1, 1, 1, 1, 1, 1])"
   ]
  },
  {
   "cell_type": "code",
   "execution_count": 34,
   "id": "9328cf67",
   "metadata": {},
   "outputs": [
    {
     "data": {
      "text/plain": [
       "[2, 1]"
      ]
     },
     "execution_count": 34,
     "metadata": {},
     "output_type": "execute_result"
    }
   ],
   "source": [
    "solution([93, 30, 55],[1,30,5])"
   ]
  },
  {
   "cell_type": "code",
   "execution_count": null,
   "id": "472693df",
   "metadata": {},
   "outputs": [],
   "source": []
  }
 ],
 "metadata": {
  "kernelspec": {
   "display_name": "Python 3",
   "language": "python",
   "name": "python3"
  },
  "language_info": {
   "codemirror_mode": {
    "name": "ipython",
    "version": 3
   },
   "file_extension": ".py",
   "mimetype": "text/x-python",
   "name": "python",
   "nbconvert_exporter": "python",
   "pygments_lexer": "ipython3",
   "version": "3.8.8"
  }
 },
 "nbformat": 4,
 "nbformat_minor": 5
}
