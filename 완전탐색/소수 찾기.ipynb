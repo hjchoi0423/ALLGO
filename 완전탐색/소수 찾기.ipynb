{
 "cells": [
  {
   "cell_type": "markdown",
   "id": "30441660",
   "metadata": {},
   "source": [
    "# 2021.11.22  \n",
    "## 소수 찾기   \n",
    "간만에 itertools 쓰려니 호출법이 기억이 가물가물해서 시간이 좀 걸렸다.  \n",
    "소수 판별하는 알고리즘 짤 때 int 안 써서 계속 에러 걸렸던 것 좀 한심하다... 반성 또 반성🤦‍♀️"
   ]
  },
  {
   "cell_type": "markdown",
   "id": "7265ccf4",
   "metadata": {},
   "source": [
    "##### 첫 번째 풀이(1년 전....)"
   ]
  },
  {
   "cell_type": "code",
   "execution_count": null,
   "id": "28717d2d",
   "metadata": {},
   "outputs": [],
   "source": [
    "import math\n",
    "from itertools import permutations\n",
    "# 제곱근까지만 보고 소수 판별\n",
    "def is_prime(x):\n",
    "    if x<2:\n",
    "        return False\n",
    "    for i in range(2, int(math.sqrt(x))+1):\n",
    "        if x % i == 0:\n",
    "            return False\n",
    "    return True\n",
    "    \n",
    "def solution(numbers):\n",
    "    answer=[]\n",
    "    for i in range(1,len(numbers)+1):\n",
    "        lst = list(map(''.join, permutations(list(numbers), i)))\n",
    "        for j in list(set(lst)):\n",
    "            if is_prime(int(j)):\n",
    "                answer.append(int(j))\n",
    "    \n",
    "    return len(set(answer))"
   ]
  },
  {
   "cell_type": "markdown",
   "id": "ec0c193e",
   "metadata": {},
   "source": [
    "##### 두 번째 풀이(수준이 더 낮아진 것 같다😢)"
   ]
  },
  {
   "cell_type": "code",
   "execution_count": 26,
   "id": "7b0ba476",
   "metadata": {},
   "outputs": [],
   "source": [
    "import math\n",
    "from itertools import permutations\n",
    "\n",
    "def is_prime(num):\n",
    "    if num<2:\n",
    "        return False\n",
    "    for i in range(2, int(math.sqrt(num))+1):\n",
    "        if num%i==0:\n",
    "            return False\n",
    "    return True\n",
    "\n",
    "def solution(numbers):\n",
    "    num_list=[]\n",
    "    for i in range(1,len(numbers)+1):\n",
    "        lst=list(map(''.join, permutations(list(numbers), i)))\n",
    "        for j in lst:\n",
    "            num_list.append(j)\n",
    "    print(num_list)\n",
    "    answer=[]\n",
    "    for i in num_list:\n",
    "        for j in i:\n",
    "            if is_prime(int(i)):\n",
    "                answer.append(int(i))\n",
    "    return len(answer)\n",
    "    print(answer)"
   ]
  },
  {
   "cell_type": "code",
   "execution_count": 27,
   "id": "23e38564",
   "metadata": {},
   "outputs": [
    {
     "name": "stdout",
     "output_type": "stream",
     "text": [
      "['1', '2', '12', '21']\n"
     ]
    },
    {
     "data": {
      "text/plain": [
       "1"
      ]
     },
     "execution_count": 27,
     "metadata": {},
     "output_type": "execute_result"
    }
   ],
   "source": [
    "solution(\"12\")"
   ]
  },
  {
   "cell_type": "code",
   "execution_count": null,
   "id": "12b71e6c",
   "metadata": {},
   "outputs": [],
   "source": []
  }
 ],
 "metadata": {
  "kernelspec": {
   "display_name": "Python 3",
   "language": "python",
   "name": "python3"
  },
  "language_info": {
   "codemirror_mode": {
    "name": "ipython",
    "version": 3
   },
   "file_extension": ".py",
   "mimetype": "text/x-python",
   "name": "python",
   "nbconvert_exporter": "python",
   "pygments_lexer": "ipython3",
   "version": "3.8.8"
  }
 },
 "nbformat": 4,
 "nbformat_minor": 5
}
