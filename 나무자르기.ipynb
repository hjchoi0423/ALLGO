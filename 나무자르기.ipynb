{
 "cells": [
  {
   "cell_type": "markdown",
   "id": "367b80b0",
   "metadata": {},
   "source": [
    "# 2021.07.24\n",
    "## 나무자르기"
   ]
  },
  {
   "cell_type": "code",
   "execution_count": null,
   "id": "db858797",
   "metadata": {},
   "outputs": [],
   "source": [
    "N, M=map(int, input().split())\n",
    "tree_list= list(map(int, input().split()))\n",
    "start, end = 0, max(tree_list)\n",
    "answer=0\n",
    "\n",
    "while start<=end:\n",
    "    mid=(start+end)//2\n",
    "    sums=sum([tree-mid if mid<tree else 0 for tree in tree_list])\n",
    "    if M>sums:\n",
    "        end=mid-1\n",
    "    else:\n",
    "        answer=mid\n",
    "        start=mid+1\n",
    "print(answer)"
   ]
  }
 ],
 "metadata": {
  "kernelspec": {
   "display_name": "Python 3",
   "language": "python",
   "name": "python3"
  },
  "language_info": {
   "codemirror_mode": {
    "name": "ipython",
    "version": 3
   },
   "file_extension": ".py",
   "mimetype": "text/x-python",
   "name": "python",
   "nbconvert_exporter": "python",
   "pygments_lexer": "ipython3",
   "version": "3.8.8"
  }
 },
 "nbformat": 4,
 "nbformat_minor": 5
}
