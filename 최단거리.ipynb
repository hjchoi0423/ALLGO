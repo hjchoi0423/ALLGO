{
 "cells": [
  {
   "cell_type": "markdown",
   "id": "d18ee6d2",
   "metadata": {},
   "source": [
    "# 2021.07.29\n",
    "## 최단경로\n",
    "누가봐도 다익스트라  \n",
    "시간초과 에러가 왜 자꾸 뜨는 것일까...🤦‍♀️  \n",
    "--> 해결함  \n",
    "어이없어.. 제발 sys.stdin.readline()을 써놨으면 쓰자;;;;"
   ]
  },
  {
   "cell_type": "code",
   "execution_count": null,
   "id": "0e92117a",
   "metadata": {
    "scrolled": true
   },
   "outputs": [],
   "source": [
    "from collections import defaultdict\n",
    "import sys\n",
    "import heapq\n",
    "\n",
    "V, E = map(int, input().split())\n",
    "start=int(input())\n",
    "edges = defaultdict(list)\n",
    "INF=int(1e9)\n",
    "distance=[INF]*(V+1)\n",
    "\n",
    "for _ in range(E):\n",
    "    u, v, w = map(int, sys.stdin.readline().split())\n",
    "    edges[u].append((v,w))\n",
    "\n",
    "def dijkstra(start):\n",
    "    Q = [] # 우선순위 큐생성 (거리, 정점)\n",
    "    heapq.heappush(Q, (0, start))\n",
    "    distance[start]=0\n",
    "\n",
    "    while Q:\n",
    "        dist, node = heapq.heappop(Q)\n",
    "        if distance[node]<dist:\n",
    "            continue\n",
    "            \n",
    "        for n in edges[node]:\n",
    "            update=dist+n[1]\n",
    "            \n",
    "            if update<distance[n[0]]:\n",
    "                distance[n[0]]=update\n",
    "                heapq.heappush(Q, (update, n[0]))\n",
    "\n",
    "dijkstra(start)\n",
    "\n",
    "for i in range(1, V+1):\n",
    "    print(\"INF\" if distance[i]==INF else distance[i])"
   ]
  },
  {
   "cell_type": "markdown",
   "id": "e515cbf5",
   "metadata": {},
   "source": [
    "결과값 출력 방식은 위와 아래가 별 차이가 없다.  여러 번 해봤는데 계속 다르다."
   ]
  },
  {
   "cell_type": "code",
   "execution_count": null,
   "id": "5a273d5d",
   "metadata": {},
   "outputs": [],
   "source": [
    "for i in range(1, V+1):\n",
    "    if distance[i] == INF:\n",
    "        print(\"INF\")\n",
    "    else:\n",
    "        print(distance[i])"
   ]
  }
 ],
 "metadata": {
  "kernelspec": {
   "display_name": "Python 3",
   "language": "python",
   "name": "python3"
  },
  "language_info": {
   "codemirror_mode": {
    "name": "ipython",
    "version": 3
   },
   "file_extension": ".py",
   "mimetype": "text/x-python",
   "name": "python",
   "nbconvert_exporter": "python",
   "pygments_lexer": "ipython3",
   "version": "3.8.8"
  }
 },
 "nbformat": 4,
 "nbformat_minor": 5
}
