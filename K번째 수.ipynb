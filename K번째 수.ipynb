{
 "cells": [
  {
   "cell_type": "markdown",
   "id": "d9c974da",
   "metadata": {},
   "source": [
    "# 2021.11.17  \n",
    "##  K번째 수  \n",
    "인덱스가 0부터 시작하지 않는다는 것 조심‼"
   ]
  },
  {
   "cell_type": "code",
   "execution_count": 37,
   "id": "fa1a3ab4",
   "metadata": {},
   "outputs": [],
   "source": [
    "def solution(array, commands):\n",
    "    answer=[]\n",
    "    for command in commands:\n",
    "        tmp=array[command[0]-1:command[1]]\n",
    "        tmp.sort()\n",
    "        answer.append(tmp[command[2]-1])\n",
    "    print(answer)"
   ]
  },
  {
   "cell_type": "code",
   "execution_count": 38,
   "id": "c5587efa",
   "metadata": {},
   "outputs": [
    {
     "name": "stdout",
     "output_type": "stream",
     "text": [
      "[5, 6, 3]\n"
     ]
    }
   ],
   "source": [
    "solution([1, 5, 2, 6, 3, 7, 4],[[2, 5, 3], [4, 4, 1], [1, 7, 3]])"
   ]
  },
  {
   "cell_type": "code",
   "execution_count": null,
   "id": "a0353064",
   "metadata": {},
   "outputs": [],
   "source": []
  }
 ],
 "metadata": {
  "kernelspec": {
   "display_name": "Python 3",
   "language": "python",
   "name": "python3"
  },
  "language_info": {
   "codemirror_mode": {
    "name": "ipython",
    "version": 3
   },
   "file_extension": ".py",
   "mimetype": "text/x-python",
   "name": "python",
   "nbconvert_exporter": "python",
   "pygments_lexer": "ipython3",
   "version": "3.8.8"
  }
 },
 "nbformat": 4,
 "nbformat_minor": 5
}
