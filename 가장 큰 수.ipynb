{
 "cells": [
  {
   "cell_type": "markdown",
   "id": "8956b404",
   "metadata": {},
   "source": [
    "# 2021.11.17  \n",
    "## 가장 큰 수   \n",
    "sort함수를 lambda를 활용해서 적용할 생각을 못했다.  \n",
    "특히 테스트케이스를 계속 하나 틀려서 뭘까 고민했는데 if문에서 return '0'이 아닌 return 0을 해서가 그 이유였다;;;  \n",
    "이런 잔실수를 하지 않는 꼼꼼한 사람이 되도록 하자💢"
   ]
  },
  {
   "cell_type": "code",
   "execution_count": 27,
   "id": "a01e0d89",
   "metadata": {},
   "outputs": [],
   "source": [
    "def solution(numbers):\n",
    "    numbers=[str(x) for x in numbers]\n",
    "    numbers.sort(key=lambda x:str(x*3)[:4], reverse=True)\n",
    "    print(numbers)\n",
    "    if numbers[0]=='0':\n",
    "        answer='0'\n",
    "    else:\n",
    "        answer=''.join(numbers)\n",
    "    return answer"
   ]
  },
  {
   "cell_type": "markdown",
   "id": "c6f99427",
   "metadata": {},
   "source": [
    "문자열 비교가 갑자기 헷갈려서 해본 작은 예시"
   ]
  },
  {
   "cell_type": "code",
   "execution_count": 28,
   "id": "fdb73a73",
   "metadata": {},
   "outputs": [
    {
     "name": "stdout",
     "output_type": "stream",
     "text": [
      "['1', '1000']\n"
     ]
    },
    {
     "data": {
      "text/plain": [
       "'11000'"
      ]
     },
     "execution_count": 28,
     "metadata": {},
     "output_type": "execute_result"
    }
   ],
   "source": [
    "solution([1000,1])"
   ]
  },
  {
   "cell_type": "code",
   "execution_count": 31,
   "id": "ad44fa57",
   "metadata": {},
   "outputs": [
    {
     "data": {
      "text/plain": [
       "'1000'"
      ]
     },
     "execution_count": 31,
     "metadata": {},
     "output_type": "execute_result"
    }
   ],
   "source": [
    "str('1000'*3)[:4]"
   ]
  },
  {
   "cell_type": "code",
   "execution_count": 33,
   "id": "4ffe2e5d",
   "metadata": {},
   "outputs": [
    {
     "data": {
      "text/plain": [
       "True"
      ]
     },
     "execution_count": 33,
     "metadata": {},
     "output_type": "execute_result"
    }
   ],
   "source": [
    "'111'>'1000'"
   ]
  },
  {
   "cell_type": "code",
   "execution_count": 34,
   "id": "8998e708",
   "metadata": {},
   "outputs": [
    {
     "data": {
      "text/plain": [
       "True"
      ]
     },
     "execution_count": 34,
     "metadata": {},
     "output_type": "execute_result"
    }
   ],
   "source": [
    "'9'>'100'"
   ]
  },
  {
   "cell_type": "code",
   "execution_count": null,
   "id": "bb4d0845",
   "metadata": {},
   "outputs": [],
   "source": []
  }
 ],
 "metadata": {
  "kernelspec": {
   "display_name": "Python 3",
   "language": "python",
   "name": "python3"
  },
  "language_info": {
   "codemirror_mode": {
    "name": "ipython",
    "version": 3
   },
   "file_extension": ".py",
   "mimetype": "text/x-python",
   "name": "python",
   "nbconvert_exporter": "python",
   "pygments_lexer": "ipython3",
   "version": "3.8.8"
  }
 },
 "nbformat": 4,
 "nbformat_minor": 5
}
